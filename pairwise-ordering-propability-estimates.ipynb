{
 "cells": [
  {
   "cell_type": "markdown",
   "metadata": {},
   "source": [
    "# Area Under What Curve?"
   ]
  },
  {
   "cell_type": "markdown",
   "metadata": {},
   "source": [
    "When training a classifier, there are lots of ways to assess how \"good\" it is. One of the metrics most commonly reported is the area under the receiver-operator characteristic curve, known as the AUC, or AUROC, or ROC AUC...\n",
    "\n",
    "Thinking about this recently, I refreshed my memory on why it is a useful and important quantity for evaluating a model, and I was also struck by how badly it's named. This notebook documents my ponderings."
   ]
  },
  {
   "cell_type": "code",
   "execution_count": 10,
   "metadata": {},
   "outputs": [],
   "source": [
    "import numpy as np\n",
    "from matplotlib import pyplot as plt\n",
    "from scipy import stats"
   ]
  },
  {
   "cell_type": "markdown",
   "metadata": {},
   "source": [
    "# Binary Classification"
   ]
  },
  {
   "cell_type": "markdown",
   "metadata": {},
   "source": [
    "In a binary classification problem, we are interested in determining which of two classes each example belongs to, based on other known quantities which characterise the example.\n",
    "\n",
    "Call the label $y \\in \\{ 0, 1 \\}$ and the features $x \\in \\mathcal{X}$, drawn from some data distribution $\\pi(x, y) = \\pi_{x|y}(x|y) \\pi_y(y)$.\n",
    "\n",
    "We will have a model which provides a function which takes a feature vector and produces a score $s \\in \\mathbb{R}$:\n",
    "\n",
    "$$\n",
    "s = m(x)\n",
    "$$\n",
    "\n",
    "Using this, we will make a classification decision based on whether or not the score exceeds some threshold $t \\in \\mathbb{R}$:\n",
    "\n",
    "$$\n",
    "z(s, t) = \\begin{cases} 1 & s \\geq t \\\\ 0 & s < t \\end{cases}\n",
    "$$\n",
    "\n",
    "For each example to which we apply our model there are four possible outcomes, where the true label $y$ and estimated label $z$ may be each be $0$ or $1$.\n",
    "\n",
    "The operation of classifier depends on three factors:\n",
    "* The prevalence of the two classes, i.e. $\\pi_y(y)$.\n",
    "* How good the model is at separating the two classes in feature space\n",
    "* Where we set the threshold\n",
    "\n",
    "The important thing when calculating metrics to evaluate our classiier is that we clearly distinguish which of these factors we're trying to assess."
   ]
  },
  {
   "cell_type": "code",
   "execution_count": 71,
   "metadata": {},
   "outputs": [],
   "source": [
    "def draw_pos_samples(num=1):\n",
    "    return stats.t.rvs(3, loc=1.0, scale=1.0, size=num)\n",
    "\n",
    "def draw_neg_samples(num=1):\n",
    "    return stats.t.rvs(3, loc=-1.0, scale=1.0, size=num)\n",
    "\n",
    "def generate_some_data(num_pos=1000, num_neg=1000):\n",
    "    x_pos = generate_pos_samples(num=num_pos)\n",
    "    x_neg = generate_neg_samples(num=num_neg)\n",
    "    x = np.concatenate((x_pos, x_neg))\n",
    "    y = np.concatenate((np.ones(num_pos, dtype=bool), np.zeros(num_neg, dtype=bool)))\n",
    "    return x, y"
   ]
  },
  {
   "cell_type": "code",
   "execution_count": 72,
   "metadata": {},
   "outputs": [
    {
     "data": {
      "image/png": "[encoded data removed]",
      "text/plain": [
       "<matplotlib.figure.Figure at 0x7fb043a0d1d0>"
      ]
     },
     "metadata": {},
     "output_type": "display_data"
    }
   ],
   "source": [
    "x, y = generate_some_data()\n",
    "fig, ax = plt.subplots()\n",
    "ax.hist((x[y], x[~y]), bins=20, stacked=True)\n",
    "plt.show()"
   ]
  },
  {
   "cell_type": "markdown",
   "metadata": {},
   "source": [
    "# Pairwise Ordering Probability"
   ]
  },
  {
   "cell_type": "markdown",
   "metadata": {},
   "source": [
    "Suppose the thing we want to characterise is the model's ability to separate the two classes. To do this, we need some measure of performance which does not depend on the class distribution or the threshold we set.\n",
    "\n",
    "* The need to be independent of the threshold means that we can only look at scores, not the final outcomes of the classifier. \n",
    "* The need to be independent of the class distribution means that whatever measure we come up with must be suitably conditioned on class. We could not, for example, use anything based on classifying a randomly chosen data point.\n",
    "\n",
    "There is a convenient measure which satisfies these two properties. Suppose we take a random example from each class, and attempt to classify them together. Since we know we have exactly one example from each class, the only thing that matters is the score ordering. We'll infer that the example with the larger score is in class $1$ and the other one is in class $0$. The probability that we're correct is:\n",
    "\n",
    "$$\n",
    "p(\\hat{s} > \\check{s} \\;|\\; \\hat{y}=1, \\check{y}=0)\n",
    "$$\n",
    "\n",
    "Where $\\hat{\\cdot}$ and $\\check{\\cdot}$ denote variables associated with each of the two examples.\n",
    "\n",
    "Why don't we call this POP, for pairwise ordering probability?\n",
    "\n",
    "How to estimate POP? Well, we can get to it very easily with a Monte Carlo estimate.\n",
    "\n",
    "\\begin{align}\n",
    "p(\\hat{s} > \\check{s} \\;|\\; \\hat{y}=1, \\check{y}=0) &= p(m(\\hat{x}) > m(\\check{x}) \\;|\\; \\hat{y}=1, \\check{y}=0) \\\\\n",
    "&= \\int p(m(\\hat{x}) > m(\\check{x}), \\hat{x}, \\check{x} \\;|\\; \\hat{y}=1, \\check{y}=0) d\\hat{x} d\\check{x} \\\\\n",
    "&= \\int p(m(\\hat{x}) > m(\\check{x}) \\;|\\; \\hat{x}, \\check{x}) p(\\hat{x} \\;|\\; \\hat{y}=0) p(\\check{x} \\;|\\; \\check{y}=0) d\\hat{x} d\\check{x} \\\\\n",
    "&= \\int \\mathbb{1}(m(\\hat{x}) > m(\\check{x})) p(\\hat{x} \\;|\\; \\hat{y}=0) p(\\check{x} \\;|\\; \\check{y}=0) d\\hat{x} d\\check{x} \\\\\n",
    "&\\leftarrow \\frac{1}{N} \\sum_n \\mathbb{1}(m(\\hat{x}_n) > m(\\check{x}_n))\n",
    "\\end{align}\n",
    "\n",
    "Where $\\hat{x}_n$ and $\\check{x}_n$ are samples drawn respectively from $\\pi_{x|y}(\\cdot|y=1)$ and $\\pi_{x|y}(\\cdot|y=0)$. So we can just randomly draw pairs of samples from our data, one from each class, and count how often the score for the $1$-class example is larger."
   ]
  },
  {
   "cell_type": "code",
   "execution_count": 73,
   "metadata": {},
   "outputs": [],
   "source": [
    "def sample_estimate_pop(N=1000):\n",
    "    num_right = 0\n",
    "    num_wrong = 0\n",
    "    for i in range(N):\n",
    "        pos_sample = draw_pos_samples()\n",
    "        neg_sample = draw_neg_samples()\n",
    "        if (pos_sample > neg_sample):\n",
    "            num_right += 1\n",
    "        else:\n",
    "            num_wrong += 1\n",
    "    return num_right / (num_right + num_wrong)"
   ]
  },
  {
   "cell_type": "code",
   "execution_count": 74,
   "metadata": {},
   "outputs": [
    {
     "name": "stdout",
     "output_type": "stream",
     "text": [
      "0.86\n"
     ]
    }
   ],
   "source": [
    "print(sample_estimate_pop())"
   ]
  },
  {
   "cell_type": "code",
   "execution_count": 75,
   "metadata": {},
   "outputs": [
    {
     "data": {
      "image/png": "[encoded data removed]",
      "text/plain": [
       "<matplotlib.figure.Figure at 0x7fb043a89e80>"
      ]
     },
     "metadata": {},
     "output_type": "display_data"
    }
   ],
   "source": [
    "sample_estimate_arr = np.array([sample_estimate_pop() for k in range(100)])\n",
    "fig, ax = plt.subplots()\n",
    "ax.hist(sample_estimate_arr, bins=10)\n",
    "plt.show()"
   ]
  },
  {
   "cell_type": "markdown",
   "metadata": {},
   "source": [
    "# Should We Be Talking About FPRs And All That?"
   ]
  },
  {
   "cell_type": "markdown",
   "metadata": {},
   "source": [
    "There's another way. Denote the probability densities of the score conditional on the classes as $f_0$ and $f_1$. We can massage the POP like this (glossing over the formalities of measures and the like):\n",
    "\n",
    "\\begin{align}\n",
    "p(\\hat{s} > \\check{s} \\;|\\; \\hat{y}=1, \\check{y}=0) &= \\int p(\\hat{s} > \\check{s}, \\check{s}=t \\;|\\; \\hat{y}=1, \\check{y}=0) \\; dt \\\\\n",
    "&= \\int p(\\hat{s} > t, \\check{s}=t \\;|\\; \\hat{y}=1, \\check{y}=0) \\; dt \\\\\n",
    "&= \\int p(\\hat{s} > t \\;|\\; \\hat{y}=1) \\; p(\\check{s}=t \\;|\\; \\check{y}=0) \\; dt \\\\\n",
    "&= \\int p(\\hat{s} > t \\;|\\; \\hat{y}=1) \\; f_0(t) \\; dt\n",
    "\\end{align}\n",
    "\n",
    "Now at last we'll introduce some familiar functions:\n",
    "\n",
    "\\begin{align}\n",
    "\\rho(t) &= p(z=1|y=1) = p(s>t|y=1) \\\\\n",
    "\\sigma(t) &= p(z=0|y=0) = p(s<t|y=0) \\\\\n",
    "\\end{align}\n",
    "\n",
    "$\\rho$ is recall or sensitivity or true positive probability. $\\sigma$ is the complement of specificity or true negative probability.\n",
    "\n",
    "The true negative probability is just the CDF of the $0$-class score distribution:\n",
    "\n",
    "$$\n",
    "p(s<t|y=0) = \\int_{-\\infty}^{t} f_0(u) du\n",
    "$$\n",
    "\n",
    "Inverting this using the fundamental law of calculus, we have:\n",
    "\n",
    "$$\n",
    "f_0(t) = \\frac{d\\sigma}{dt}\n",
    "$$\n",
    "\n",
    "We can plug this into our expression for pop, do a change of variables $v=\\sigma(t)$, and voila:\n",
    "\n",
    "\\begin{align}\n",
    "p(\\hat{s} > \\check{s} \\;|\\; \\hat{y}=1, \\check{y}=0) &= \\int p(\\hat{s} > t \\;|\\; \\hat{y}=1) \\; f_0(t) \\; dt \\\\\n",
    "&= \\int \\rho(t) \\; \\frac{d\\sigma}{dt} \\; dt \\\\\n",
    "&= \\int \\rho(\\sigma^{-1}(v)) \\; dv\n",
    "\\end{align}\n",
    "\n",
    "If we were to plot $\\rho$ against $\\sigma$, this would be the area under the curve.\n",
    "\n",
    "But this, of course, was all in terms of the underlying model probabilities, which we don't have. We need to estimate this using data somehow.\n",
    "\n",
    "We can estimate $\\rho$ and $\\sigma$ using a Monte Carlo estimate:\n",
    "\n",
    "\\begin{align}\n",
    "\\rho(t) &= p(s>t|y=1) \\leftarrow \\frac{1}{\\hat{N}} \\sum_n \\mathbb{1}(\\hat{s}_{n} > t) \\\\\n",
    "\\sigma(t) &= p(s<t|y=0) \\leftarrow \\frac{1}{\\check{N}} \\sum_n \\mathbb{1}(\\check{s}_{n} < t)\n",
    "\\end{align}\n",
    "\n",
    "Where $\\{\\hat{s}_{n}\\}$ and $\\{\\check{s}_{n}\\}$ are samples from the $1$- and $0$-class respectively, and $\\hat{N}$ and $\\check{N}$ are the number of samples from each class.\n",
    "\n",
    "With $N = \\hat{N}+\\check{N}$ data points, the domain of $t$ is divided up into $N+1$ intervals, each defining a $\\rho,\\sigma$ pair. We can plot these."
   ]
  },
  {
   "cell_type": "code",
   "execution_count": 92,
   "metadata": {},
   "outputs": [],
   "source": [
    "def tpr_tnr_from_data(x, y):\n",
    "    idx = np.argsort(x)\n",
    "    x_sort = x[idx]\n",
    "    y_sort = y[idx]\n",
    "\n",
    "    num_pos = np.sum(y)\n",
    "    num_neg = np.sum(~y)\n",
    "    num_pos_above = num_pos\n",
    "    num_neg_below = 0\n",
    "    tpr = np.zeros((len(x_sort) + 1))\n",
    "    tnr = np.zeros((len(x_sort) + 1))\n",
    "\n",
    "    for k, s in enumerate(x_sort):\n",
    "        if y_sort[k]:\n",
    "            num_pos_above -= 1\n",
    "        else:\n",
    "            num_neg_below += 1\n",
    "        tpr[k + 1] = float(num_pos_above) / float(num_pos)\n",
    "        tnr[k + 1] = float(num_neg_below) / float(num_neg)\n",
    "    \n",
    "    return tpr, tnr"
   ]
  },
  {
   "cell_type": "code",
   "execution_count": 101,
   "metadata": {},
   "outputs": [
    {
     "data": {
      "image/png": "[encoded data removed]",
      "text/plain": [
       "<matplotlib.figure.Figure at 0x7fb0429e3ef0>"
      ]
     },
     "metadata": {},
     "output_type": "display_data"
    }
   ],
   "source": [
    "x_small, y_small = generate_some_data(num_pos=20, num_neg=30)\n",
    "tpr, tnr = tpr_tnr_from_data(x_small, y_small)\n",
    "fig, ax = plt.subplots()\n",
    "ax.plot(tnr, tpr, '.')\n",
    "ax.set_xlim([0.0, 1.1])\n",
    "ax.set_ylim([0.0, 1.1])\n",
    "plt.show()"
   ]
  },
  {
   "cell_type": "markdown",
   "metadata": {},
   "source": [
    "So... if we know that POP is equal to the area under the $\\rho-\\sigma$ curve, then we could approximate it by joining the dots and then integrating under the resulting shape.\n",
    "\n",
    "We can make this a bit more formal by going back to the expecation we had back at the start of this section, using the approximation for $\\rho$, and then using a sample approximation for the expectation. Something like this:\n",
    "\n",
    "\\begin{align}\n",
    "p(\\hat{s} > \\check{s} \\;|\\; \\hat{y}=1, \\check{y}=0) &= \\int \\rho(t) \\; f_0(t) \\; dt \\\\\n",
    "&\\approx \\int \\left[ \\frac{1}{\\hat{N}} \\sum_n \\mathbb{1}(\\hat{s}_{n} > t) \\right] \\; f_0(t) \\; dt \\\\\n",
    "&\\approx \\frac{1}{\\check{N}} \\sum_k \\left[ \\frac{1}{\\hat{N}} \\sum_n \\mathbb{1}(\\hat{s}_{n} > \\check{s}_k) \\right] \\\\\n",
    "&\\approx \\frac{1}{\\check{N} \\hat{N}} \\sum_{nk} \\mathbb{1}(\\hat{s}_{n} > \\check{s}_k)\n",
    "\\end{align}\n",
    "\n",
    "This simply says that we can divide the unit square into $\\hat{N} \\times \\check{N}$ little rectangles, each corresponding to a pair of data points with one from each class. Then we can count the pairs where the $0$-class sample has a lower score than the $1$-class sample and divide by the total. Neat."
   ]
  },
  {
   "cell_type": "markdown",
   "metadata": {},
   "source": [
    "# Ranting About Terminology"
   ]
  },
  {
   "cell_type": "markdown",
   "metadata": {},
   "source": [
    "There is so much terminology for different metrics and tests for classifiers, which exists because these models have been studied in such a large number of different fields over the course of the last century. This obscures the relatively simple ideas and needlessly complicates learning. It is high time we stopped talking about Receiver-Operator Characteristics. None of us are using these for radar or telegraph systems these days. And it is high time we stopped naming a key metric after the method of approximation rather than the underlying quantity it actually estimates. We must rename AUC to POP."
   ]
  },
  {
   "cell_type": "markdown",
   "metadata": {},
   "source": [
    "# References"
   ]
  },
  {
   "cell_type": "code",
   "execution_count": null,
   "metadata": {},
   "outputs": [],
   "source": []
  }
 ],
 "metadata": {
  "kernelspec": {
   "display_name": "Python 3",
   "language": "python",
   "name": "python3"
  },
  "language_info": {
   "codemirror_mode": {
    "name": "ipython",
    "version": 3
   },
   "file_extension": ".py",
   "mimetype": "text/x-python",
   "name": "python",
   "nbconvert_exporter": "python",
   "pygments_lexer": "ipython3",
   "version": "3.5.2"
  }
 },
 "nbformat": 4,
 "nbformat_minor": 2
}
