{
 "cells": [
  {
   "cell_type": "markdown",
   "metadata": {},
   "source": [
    "# Area Under What Curve?"
   ]
  },
  {
   "cell_type": "markdown",
   "metadata": {},
   "source": [
    "When training a classifier, there are lots of ways to assess how \"good\" it is. One of the metrics most commonly reported is the area under the receiver-operator characteristic curve, known as the AUC, or AUROC, or ROC AUC...\n",
    "\n",
    "Thinking about this recently, I refreshed my memory on why it is a useful and important quantity for evaluating a model, and I was also struck by how badly it's named. This notebook documents my ponderings."
   ]
  },
  {
   "cell_type": "code",
   "execution_count": 10,
   "metadata": {},
   "outputs": [],
   "source": [
    "import numpy as np\n",
    "from matplotlib import pyplot as plt\n",
    "from scipy import stats"
   ]
  },
  {
   "cell_type": "markdown",
   "metadata": {},
   "source": [
    "# Binary Classification"
   ]
  },
  {
   "cell_type": "markdown",
   "metadata": {},
   "source": [
    "In a binary classification problem, we are interested in determining which of two classes each example belongs to, based on other known quantities which characterise the example.\n",
    "\n",
    "Call the label $y \\in \\{ 0, 1 \\}$ and the features $x \\in \\mathcal{X}$, drawn from some data distribution $\\pi(x, y) = \\pi_{x|y}(x|y) \\pi_y(y)$.\n",
    "\n",
    "We will have a model which provides a function which takes a feature vector and produces a score $s \\in \\mathbb{R}$:\n",
    "\n",
    "$$\n",
    "s = m(x)\n",
    "$$\n",
    "\n",
    "Using this, we will make a classification decision based on whether or not the score exceeds some threshold $t \\in \\mathbb{R}$:\n",
    "\n",
    "$$\n",
    "z(s, t) = \\begin{cases} 1 & s \\geq t \\\\ 0 & s < t \\end{cases}\n",
    "$$\n",
    "\n",
    "For each example to which we apply our model there are four possible outcomes, where the true label $y$ and estimated label $z$ may be each be $0$ or $1$.\n",
    "\n",
    "The operation of classifier depends on three factors:\n",
    "* The prevalence of the two classes, i.e. $\\pi_y(y)$.\n",
    "* How good the model is at separating the two classes in feature space\n",
    "* Where we set the threshold\n",
    "\n",
    "The important thing when calculating metrics to evaluate our classiier is that we clearly distinguish which of these factors we're trying to assess."
   ]
  },
  {
   "cell_type": "code",
   "execution_count": 19,
   "metadata": {},
   "outputs": [],
   "source": [
    "def generate_some_data(num_pos=1000, mn_pos=1.0, sd_pos=1.0, num_neg=1000, mn_neg=-1.0, sd_neg=1.0):\n",
    "    x_pos = stats.t.rvs(3, loc=mn_pos, scale=sd_pos, size=num_pos)\n",
    "    x_neg = stats.t.rvs(3, loc=mn_neg, scale=sd_neg, size=num_neg)\n",
    "    x = np.concatenate((x_pos, x_neg))\n",
    "    y = np.concatenate((np.ones(num_pos, dtype=bool), np.zeros(num_neg, dtype=bool)))\n",
    "    return x[:, None], y"
   ]
  },
  {
   "cell_type": "code",
   "execution_count": 21,
   "metadata": {},
   "outputs": [
    {
     "data": {
      "image/png": "[encoded data removed]",
      "text/plain": [
       "<matplotlib.figure.Figure at 0x7fb043ad4e48>"
      ]
     },
     "metadata": {},
     "output_type": "display_data"
    }
   ],
   "source": [
    "x, y = generate_some_data()\n",
    "fig, ax = plt.subplots()\n",
    "ax.hist((x[y], x[~y]), bins=20, stacked=True)\n",
    "plt.show()"
   ]
  },
  {
   "cell_type": "markdown",
   "metadata": {},
   "source": [
    "# Pairwise Ordering Probability"
   ]
  },
  {
   "cell_type": "markdown",
   "metadata": {},
   "source": [
    "Suppose the thing we want to characterise is the model's ability to separate the two classes. To do this, we need some measure of performance which does not depend on the class distribution or the threshold we set.\n",
    "\n",
    "* The need to be independent of the threshold means that we can only look at scores, not the final outcomes of the classifier. \n",
    "* The need to be independent of the class distribution means that whatever measure we come up with must be suitably conditioned on class. We could not, for example, use anything based on classifying a randomly chosen data point.\n",
    "\n",
    "There is a convenient measure which satisfies these two properties. Suppose we take a random example from each class, and attempt to classify them together. Since we know we have exactly one example from each class, the only thing that matters is the score ordering. We'll infer that the example with the larger score is in class $1$ and the other one is in class $0$. The probability that we're correct is:\n",
    "\n",
    "$$\n",
    "p(m(\\hat{x}) > m(\\check{x}) \\;|\\; \\hat{y}=1, \\check{y}=0)\n",
    "$$\n",
    "\n",
    "Where $\\hat{\\cdot}$ and $\\check{\\cdot}$ denote variables associated with each of the two examples.\n",
    "\n",
    "Why don't we call this POP, for pairwise ordering probability?\n",
    "\n",
    "How to estimate POP? Well, we can get to it very easily with a Monte Carlo estimate.\n",
    "\n",
    "\\begin{align}\n",
    "p(m(\\hat{x}) > m(\\check{x}) \\;|\\; \\hat{y}=1, \\check{y}=0) &= \\int p(m(\\hat{x}) > m(\\check{x}), \\hat{x}, \\check{x} \\;|\\; \\hat{y}=1, \\check{y}=0) d\\hat{x} d\\check{x} \\\\\n",
    "&= \\int p(m(\\hat{x}) > m(\\check{x}) \\;|\\; \\hat{x}, \\check{x}) p(\\hat{x} \\;|\\; \\hat{y}=0) p(\\check{x} \\;|\\; \\check{y}=0) d\\hat{x} d\\check{x} \\\\\n",
    "&= \\int \\mathbb{1}(m(\\hat{x}) > m(\\check{x})) p(\\hat{x} \\;|\\; \\hat{y}=0) p(\\check{x} \\;|\\; \\check{y}=0) d\\hat{x} d\\check{x} \\\\\n",
    "&\\leftarrow \\frac{1}{N} \\sum_i \\mathbb{1}(m(\\hat{x}_i) > m(\\check{x}_i))\n",
    "\\end{align}\n",
    "\n",
    "Where $\\hat{x}_i$ and $\\check{x}_i$ are samples drawn respectively from $\\pi_{x|y}(\\cdot|y=1)$ and $\\pi_{x|y}(\\cdot|y=0)$. So we can just randomly draw pairs of samples from our data, one from each class, and count how often the score for the $1$-class example is larger."
   ]
  },
  {
   "cell_type": "code",
   "execution_count": 37,
   "metadata": {},
   "outputs": [],
   "source": [
    "def sample_estimate_pop(x, y, N=1000):\n",
    "    num_right = 0\n",
    "    num_wrong = 0\n",
    "    for i in range(N):\n",
    "        pos_sample = x[np.random.choice(np.where(y)[0])]\n",
    "        neg_sample = x[np.random.choice(np.where(~y)[0])]\n",
    "        if (pos_sample > neg_sample):\n",
    "            num_right += 1\n",
    "        else:\n",
    "            num_wrong += 1\n",
    "    return num_right / (num_right + num_wrong)"
   ]
  },
  {
   "cell_type": "code",
   "execution_count": 48,
   "metadata": {},
   "outputs": [
    {
     "name": "stdout",
     "output_type": "stream",
     "text": [
      "0.879\n"
     ]
    }
   ],
   "source": [
    "print(sample_estimate_pop(x, y))"
   ]
  },
  {
   "cell_type": "code",
   "execution_count": 52,
   "metadata": {},
   "outputs": [
    {
     "data": {
      "image/png": "[encoded data removed]",
      "text/plain": [
       "<matplotlib.figure.Figure at 0x7fb043b7f8d0>"
      ]
     },
     "metadata": {},
     "output_type": "display_data"
    }
   ],
   "source": [
    "sample_estimate_arr = np.array([sample_estimate_pop(x, y) for k in range(100)])\n",
    "fig, ax = plt.subplots()\n",
    "ax.hist(sample_estimate_arr, bins=10)\n",
    "plt.show()"
   ]
  },
  {
   "cell_type": "markdown",
   "metadata": {},
   "source": [
    "# Should We Be Talking About FPRs And All That?"
   ]
  },
  {
   "cell_type": "markdown",
   "metadata": {},
   "source": [
    "There's a better way. Let's do some manipulation of that probability.\n",
    "\n"
   ]
  }
 ],
 "metadata": {
  "kernelspec": {
   "display_name": "Python 3",
   "language": "python",
   "name": "python3"
  },
  "language_info": {
   "codemirror_mode": {
    "name": "ipython",
    "version": 3
   },
   "file_extension": ".py",
   "mimetype": "text/x-python",
   "name": "python",
   "nbconvert_exporter": "python",
   "pygments_lexer": "ipython3",
   "version": "3.5.2"
  }
 },
 "nbformat": 4,
 "nbformat_minor": 2
}
