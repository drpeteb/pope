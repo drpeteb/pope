{
  "nbformat": 4,
  "nbformat_minor": 0,
  "metadata": {
    "colab": {
      "provenance": [
        {
          "file_id": "1OWiV6f54iBnoTttxpHDfU0k8W0Nq4zRk",
          "timestamp": 1669177295918
        }
      ],
      "last_runtime": {
        "build_target": "//ads/metrics/lib/development/datacube:aqlogs_colab_notebook",
        "kind": "private"
      }
    },
    "kernelspec": {
      "name": "python3",
      "display_name": "Python 3"
    },
    "language_info": {
      "name": "python"
    }
  },
  "cells": [
    {
      "cell_type": "markdown",
      "source": [
        "Usually when we do binary classification, we know the label value for each data point in the training set. However, sometimes there are situations where the label itself is uncertain. Instead of having a deterministic observation, we only have a probability distribution over the two possible label values. We can still do classification in such circumstances.\n",
        "\n",
        "AUC is (an estimate of) [the probability that the model will correctly identify a pair of samples consisting of one from each class](https://nbviewer.org/github/drpeteb/pope/blob/master/pairwise-ordering-propability-estimates.ipynb). This definition/interpretation relies on being able to determine with certainty which class each example belongs to, so that we can select one of each. It is not compatible with the uncertain label setup.\n",
        "\n",
        "Here we explore how to compute AUC in the presence of uncertain labels."
      ],
      "metadata": {
        "id": "ox7LO7-zVlSn"
      }
    },
    {
      "cell_type": "markdown",
      "source": [
        "# Model\n",
        "\n",
        "To begin with, here's a standard probabilistic classification model.\n",
        "\n",
        "$x \\in \\mathcal{X}$ is a feature vector\n",
        "\n",
        "$y \\in \\{0, 1\\}$ is a binary label\n",
        "\n",
        "Our objective is infer $y$ from $x$ for unseen samples. We train a model $f: \\mathcal{X} \\rightarrow [0,1]$ which outputs an estimate of the probability of $y$ being $1$, using a data set of $N$ samples $x^{(n)}, y^{(n)} \\sim p(x, y)$.\n",
        "\n",
        "For each sample $\\pi^{(n)} = f(x^{(n)})$.\n"
      ],
      "metadata": {
        "id": "qweMTqzOXbhn"
      }
    },
    {
      "cell_type": "markdown",
      "source": [
        "# Standard AUC\n",
        "\n",
        "We can define AUC as follows:\n",
        "\n",
        "> Suppose we sample two examples $(\\hat{x}, \\hat{y})$ and $(\\check{x}, \\check{y})$ drawn from p(x, y), then AUC is:\n",
        ">\n",
        "> $p(\\omega = 1 | \\hat{y}=1, \\check{y}=0)$\n",
        ">\n",
        "> Where $\\omega \\sim \\mathcal{Bernoulli}\\left(\\text{order}(\\hat{\\pi}, \\check{\\pi})\\right) $\n",
        ">\n",
        "> And $\\text{order}(u, v) = \\begin{cases} 1 & u > v \\\\ \\frac{1}{2} & u = v \\\\ 0 & u < v \\end{cases}$\n",
        "\n",
        "The shenanigans with $\\omega$ and $\\text{order}$ are there to deal with ties, where the model assigns the same prediction to both examples. The idea is that if both examples have the same score then we just guess which is which. If the model always assigned a unique prediction to every example then we could forget about this and replace \"$\\omega = 1$\" with just \"$\\hat{\\pi} > \\check{\\pi}$\".\n",
        "\n",
        "To compute this, first massage it as follows:\n",
        "\n",
        "$\n",
        "\\begin{align}\n",
        "p(\\omega=1 | \\hat{y}=1, \\check{y}=0)\n",
        "&= \\int\\int p(\\omega=1, \\hat{x}, \\check{x} | \\hat{y}=1, \\check{y}=0) d\\hat{x} d\\check{x} & \\text{demarginalize} \\\\\n",
        "&= \\int\\int p(\\omega=1 | \\hat{x}, \\check{x}) p(\\hat{x} | \\hat{y}=1) p(\\check{x} | \\check{y}=0) d\\hat{x} d\\check{x} & \\text{conditional independence} \\\\\n",
        "&\\leftarrow \\frac{1}{N_0 N_1} \\sum_{i : y^{(i)}=1} \\sum_{j : y^{(j)}=0} \\text{order}(\\pi^{(i)}, \\pi^{(j)}) & \\text{Monte Carlo approximation}\n",
        "\\end{align}\n",
        "$\n",
        "\n",
        "where $N_1 = \\sum_n y^{(n)}$ and $N_0 = \\sum_n (1 - y^{(n)})$ are the number of examples in each class in the training set.\n",
        "\n",
        "The last line follows from using the class-$0$ and class-$1$ examples to form a Monte Carlo approximation for the expectations with respect to $p(x|y=0)$ and $p(x|y=1)$.\n",
        "\n",
        "In practice, this just indicates that we should count the number of pairs in the training set, which have one example from each class, where the model assigns the larger score to the class-$1$ example (counting $\\frac{1}{2}$ for ties), and divide by the total number of such pairs.\n",
        "\n",
        "For more detail see, for example, [these notes](https://nbviewer.org/github/drpeteb/pope/blob/master/pairwise-ordering-propability-estimates.ipynb)\n",
        "\n",
        "The formulation above does not work when the label is uncertain. The problem is that we cannot approximate $p(x|y=0)$ and $p(x|y=1)$ using the class-$0$ and class-$1$ samples, because we are not certain which ones these are."
      ],
      "metadata": {
        "id": "bZxujTdwX-sC"
      }
    },
    {
      "cell_type": "markdown",
      "source": [
        "# Uncertain Labels\n",
        "\n",
        "When the training labels are uncertain, $y$ is not an observed variable. Instead, our training set comprises examples $x^{(n)}, \\rho^{(n)} \\sim p(x, \\rho)$, with $\\rho^{(n)} \\in [0, 1]$ and $y^{(n)} \\sim \\mathcal{Bernoulli}(\\rho^{(n)})$. Thus, $\\rho^{(n)}$ is the probability that $y^{(n)}=1$ and also the expected value of the label."
      ],
      "metadata": {
        "id": "n9UY9ZGXbscQ"
      }
    },
    {
      "cell_type": "markdown",
      "source": [
        "# AUC With Uncertain Labels\n",
        "\n",
        "We can still compute the AUC when the label values are uncertain, using a different manipulation of the definition.\n",
        "\n",
        "First of all,\n",
        "\n",
        "$\n",
        "\\begin{align}\n",
        "p(\\omega=1 | \\hat{y}=1, \\check{y}=0)\n",
        "&= \\frac{p(\\omega=1 , \\hat{y}=1, \\check{y}=0)}{p(\\hat{y}=1, \\check{y}=0)} & \\text{conditional probability} \\\\\n",
        "&= \\frac{p(\\omega=1 , \\hat{y}=1, \\check{y}=0)}{p(\\hat{y}=1) p(\\check{y}=0)} & \\text{indepedence of examples}\n",
        "\\end{align}\n",
        "$\n",
        "\n",
        "For the denominator,\n",
        "\n",
        "$\n",
        "\\begin{align}\n",
        "p(\\hat{y}=1) &= \\int p(\\hat{y}=1, \\hat{\\rho}) d\\hat{\\rho} & \\text{demarginalize} \\\\\n",
        "&= \\int p(\\hat{y}=1 | \\hat{\\rho}) p(\\hat{\\rho}) d\\hat{\\rho} & \\text{conditional probability} \\\\\n",
        "&= \\int \\hat{\\rho} p(\\hat{\\rho}) d\\hat{\\rho} & \\text{definition of }\\rho \\\\\n",
        "&\\leftarrow \\frac{1}{N} \\sum_i \\rho^{(i)} & \\text{Monte Carlo approximation}\n",
        "\\end{align}\n",
        "$\n",
        "\n",
        "And similarly,\n",
        "\n",
        "$\n",
        "\\begin{align}\n",
        "p(\\check{y}=0) &= \\int (1 - \\check{\\rho}) p(\\check{\\rho}) d\\check{\\rho} \\\\\n",
        "&\\leftarrow \\frac{1}{N} \\sum_j (1 - \\rho^{(j)})\n",
        "\\end{align}\n",
        "$\n",
        "\n",
        "For the numerator,\n",
        "\n",
        "$\n",
        "\\begin{align}\n",
        "p(\\omega=1 , \\hat{y}=1, \\check{y}=0) &= \\int \\int \\int \\int p(\\omega=1 , \\hat{y}=1, \\check{y}=0, \\hat{x}, \\check{x}, \\hat{\\rho}, \\check{\\rho}) d\\hat{x} d\\check{x} d\\hat{\\rho} d\\check{\\rho} & \\text{demarginalize everything} \\\\\n",
        "&= \\int \\int \\int \\int p(\\omega=1 | \\hat{x}, \\check{x}) p(\\hat{y}=1 | \\hat{\\rho}) p(\\check{y}=0 | \\check{\\rho}) p(\\hat{x}, \\hat{\\rho}) p(\\check{x}, \\check{\\rho}) d\\hat{x} d\\check{x} d\\hat{\\rho} d\\check{\\rho} & \\text{conditional independence} \\\\\n",
        "&\\leftarrow \\frac{1}{N^2} \\sum_i \\sum_j \\text{order}(\\pi^{(i)}, \\pi^{(j)}) \\rho^{(i)} (1-\\rho^{(j)})\n",
        "\\end{align}\n",
        "$\n",
        "\n",
        "Putting it all together,\n",
        "\n",
        "$\n",
        "\\begin{align}\n",
        "p(\\omega=1 | \\hat{y}=1, \\check{y}=0) \\approx \\frac{\\sum_i \\sum_j \\text{order}(\\pi^{(i)}, \\pi^{(j)}) \\rho^{(i)} (1-\\rho^{(j)})}{\\sum_i \\rho^{(i)} \\cdot \\sum_j (1 - \\rho^{(j)})}\n",
        "\\end{align}\n",
        "$"
      ],
      "metadata": {
        "id": "c-C4SPYMbp32"
      }
    },
    {
      "cell_type": "markdown",
      "source": [
        "# Application To The Deterministic Case\n",
        "\n",
        "If in fact we _do_ know the label values, then $\\rho^{(n)}=0$ for the samples where $y^{(n)}=0$, and $\\rho^{(n)}=1$ where $y^{(n)}=1$.\n",
        "\n",
        "This means that $\\sum_i \\rho^{(i)} = N_1$ and $\\sum_j (1 - \\rho^{(j)}) = N_0$. Furthermore, the $\\rho^{(i)} (1-\\rho^{(j)})$ term is $0$ except for pairs where $y^{(i)}=1$ and $y^{(j)}=0$, where it is 1.\n",
        "\n",
        "So in this case, the AUC with uncertain labels is equivalent to the standard calculation."
      ],
      "metadata": {
        "id": "Axs80GsdjA-t"
      }
    },
    {
      "cell_type": "markdown",
      "source": [
        "# Evaluation\n",
        "\n",
        "Naive evaluation is $\\mathcal{O}(N^2)$, since the numerator requires us to examine every possible pair of examples. However, like standard AUC, we can do it more efficiently by sorting the data set in increasing order of $\\pi^{(n)}$, such that we can compare each sample to everything with a lower score with a single $\\mathcal{O}(1)$ operation. We then require only a single $\\mathcal{O}(N)$ pass through the data, and the complexity is dominated by the sorting step.\n",
        "\n",
        "This efficient single-pass algorithm is simple to implement _if_ there are no ties, i.e. if every example has its own unique prediction. If this is not the case, then we need to keep track of the range of indexes which tie with the current iterate, which adds some extra complexity. (The same is true for standard AUC when the labels are known.) "
      ],
      "metadata": {
        "id": "Y0hBRJhMj-Mr"
      }
    },
    {
      "cell_type": "markdown",
      "source": [
        "# Import!"
      ],
      "metadata": {
        "id": "XbSA-npjoX-7"
      }
    },
    {
      "cell_type": "code",
      "execution_count": null,
      "metadata": {
        "id": "I0cSNAltVi3Q"
      },
      "outputs": [],
      "source": [
        "from collections import deque\n",
        "import numpy as np\n",
        "from scipy import stats, special\n",
        "import matplotlib.pyplot as plt\n",
        "import seaborn as sns"
      ]
    },
    {
      "cell_type": "markdown",
      "source": [
        "# Generate Some Uncertain Label Data"
      ],
      "metadata": {
        "id": "TqXR5yN4n6JF"
      }
    },
    {
      "cell_type": "code",
      "source": [
        "def generate_some_data(mu=0, sigma=3, size=100, proportion_ties=0.1):\n",
        "  # Draw uncertain labels from a logit-normal distribution.\n",
        "  r = special.expit(stats.norm.rvs(loc=mu, scale=sigma, size=size))\n",
        "  y = stats.bernoulli.rvs(r)\n",
        "  x = stats.t.rvs(3, loc=2*y-1, scale=1)\n",
        "  num_ties = int(proportion_ties * size)\n",
        "  x[:num_ties] = x[-num_ties:]\n",
        "  return x, r, y"
      ],
      "metadata": {
        "id": "-7rF9MODljYe"
      },
      "execution_count": null,
      "outputs": []
    },
    {
      "cell_type": "code",
      "source": [
        "x, r, y = generate_some_data()"
      ],
      "metadata": {
        "id": "WB79u7nTnCvN"
      },
      "execution_count": null,
      "outputs": []
    },
    {
      "cell_type": "code",
      "source": [
        "fig, ax = plt.subplots(figsize=(12,4))\n",
        "sns.histplot(x, ax=ax)\n",
        "ax.set_title('$x$')\n",
        "plt.show()\n",
        "\n",
        "fig, ax = plt.subplots(figsize=(12,4))\n",
        "sns.histplot(y, ax=ax)\n",
        "ax.set_title('$y$')\n",
        "plt.show()\n",
        "\n",
        "fig, ax = plt.subplots(figsize=(12,4))\n",
        "sns.histplot(r, ax=ax)\n",
        "ax.set_title('$\\\\rho$')\n",
        "plt.show()"
      ],
      "metadata": {
        "colab": {
          "height": 807
        },
        "id": "7ffH6hhInG8e",
        "executionInfo": {
          "status": "ok",
          "timestamp": 1652761456457,
          "user_tz": 420,
          "elapsed": 799,
          "user": {
            "displayName": "Pete Bunch",
            "userId": "11151025324446171769"
          }
        },
        "outputId": "0ab0dd7f-156e-4047-8374-587129857722"
      },
      "execution_count": null,
      "outputs": [
        {
          "output_type": "display_data",
          "data": {
            "image/png": "[encoded data removed]",
            "text/plain": [
              "<Figure size 1200x400 with 1 Axes>"
            ]
          },
          "metadata": {}
        },
        {
          "output_type": "display_data",
          "data": {
            "image/png": "[encoded data removed]",
            "text/plain": [
              "<Figure size 1200x400 with 1 Axes>"
            ]
          },
          "metadata": {}
        },
        {
          "output_type": "display_data",
          "data": {
            "image/png": "[encoded data removed]",
            "text/plain": [
              "<Figure size 1200x400 with 1 Axes>"
            ]
          },
          "metadata": {}
        }
      ]
    },
    {
      "cell_type": "markdown",
      "source": [
        "# Implement AUC"
      ],
      "metadata": {
        "id": "Dxzvy33Wn8nG"
      }
    },
    {
      "cell_type": "code",
      "source": [
        "def order(x1, x2):\n",
        "  if x1 > x2:\n",
        "    return 1\n",
        "  if x1 == x2:\n",
        "    return 0.5\n",
        "  return 0\n",
        "\n",
        "def auc_naive(x, r):\n",
        "  assert(x.shape == r.shape)\n",
        "  N = len(x)\n",
        "\n",
        "  expected_num_one = np.sum(r)\n",
        "  expected_num_zero = np.sum(1 - r)\n",
        "\n",
        "  expected_pairs_correct = 0\n",
        "  for i in range(N):\n",
        "    for j in range(N):\n",
        "      ord = order(x[i], x[j])\n",
        "      expected_pairs_correct += ord * r[i] * (1 - r[j])\n",
        "\n",
        "  return expected_pairs_correct / (expected_num_one * expected_num_zero)"
      ],
      "metadata": {
        "id": "OMRdSsSUnISR"
      },
      "execution_count": null,
      "outputs": []
    },
    {
      "cell_type": "code",
      "source": [
        "# Can't handle ties\n",
        "def auc_efficient_simplistic(x, r):\n",
        "  assert(x.shape == r.shape)\n",
        "  N = len(x)\n",
        "\n",
        "  idx = np.argsort(x)\n",
        "  x = x[idx]\n",
        "  r = r[idx]\n",
        "\n",
        "  expected_num_one = np.sum(r)\n",
        "  expected_num_zero = np.sum(1 - r)\n",
        "\n",
        "  expected_pairs_correct = 0\n",
        "  zeros_below = 0\n",
        "  for i in range(N):\n",
        "    expected_pairs_correct += r[i] * (zeros_below + 0.5 * (1 - r[i]))\n",
        "    zeros_below += (1 - r[i])\n",
        "\n",
        "  return expected_pairs_correct / (expected_num_one * expected_num_zero)"
      ],
      "metadata": {
        "id": "Fr1RnIQiqRlD"
      },
      "execution_count": null,
      "outputs": []
    },
    {
      "cell_type": "code",
      "source": [
        "def auc_efficient(x, r):\n",
        "  assert(x.shape == r.shape)\n",
        "  N = len(x)\n",
        "\n",
        "  idx = np.argsort(x)\n",
        "  x = x[idx]\n",
        "  r = r[idx]\n",
        "\n",
        "  expected_num_one = np.sum(r)\n",
        "  expected_num_zero = np.sum(1 - r)\n",
        "\n",
        "  expected_pairs_correct = 0\n",
        "  zeros_below_lower = 0\n",
        "  lower = 0\n",
        "  upper = 0\n",
        "  stretch = deque()\n",
        "\n",
        "  for i in range(N):\n",
        "    while (upper < N) and (x[upper] <= x[i]):\n",
        "      stretch.append(1 - r[upper])\n",
        "      upper += 1\n",
        "    while x[lower] < x[i]:\n",
        "      lower += 1\n",
        "      zeros_below_lower += stretch.popleft()\n",
        "\n",
        "    expected_pairs_correct += r[i] * (zeros_below_lower + 0.5 * np.sum(stretch))\n",
        "\n",
        "  return expected_pairs_correct / (expected_num_one * expected_num_zero)"
      ],
      "metadata": {
        "id": "hGqH1YcPjNH8"
      },
      "execution_count": null,
      "outputs": []
    },
    {
      "cell_type": "code",
      "source": [
        "# Really simple data for debugging/step-through.\n",
        "x_test = np.array([1, 2, 2, 3, 3, 3, 4, 5])\n",
        "r_test = np.array([0.15, 0.21, 0.19, 0.33, 0.27, 0.32, 0.41, 0.56])\n",
        "\n",
        "print('{:.5f}'.format(auc_naive(x_test, r_test)))\n",
        "print('{:.5f}'.format(auc_efficient_simplistic(x_test, r_test))) # incorrect because of ties\n",
        "print('{:.5f}'.format(auc_efficient(x_test, r_test)))"
      ],
      "metadata": {
        "id": "TG5i-X1hogTG",
        "executionInfo": {
          "status": "ok",
          "timestamp": 1652761457524,
          "user_tz": 420,
          "elapsed": 60,
          "user": {
            "displayName": "Pete Bunch",
            "userId": "11151025324446171769"
          }
        },
        "outputId": "9a2d75e4-512c-4f08-847f-6723f801f8fb"
      },
      "execution_count": null,
      "outputs": [
        {
          "output_type": "stream",
          "name": "stdout",
          "text": [
            "0.65627\n",
            "0.65479\n",
            "0.65627\n"
          ]
        }
      ]
    },
    {
      "cell_type": "code",
      "source": [
        "# \"Real\" data\n",
        "print('{:.5f}'.format(auc_naive(x, r)))\n",
        "print('{:.5f}'.format(auc_efficient_simplistic(x, r))) # incorrect because of ties\n",
        "print('{:.5f}'.format(auc_efficient(x, r)))"
      ],
      "metadata": {
        "id": "LmgGz5fmePsj",
        "executionInfo": {
          "status": "ok",
          "timestamp": 1652761457725,
          "user_tz": 420,
          "elapsed": 10,
          "user": {
            "displayName": "Pete Bunch",
            "userId": "11151025324446171769"
          }
        },
        "outputId": "36a6a47e-a973-4c51-aecc-4942bc4b9831"
      },
      "execution_count": null,
      "outputs": [
        {
          "output_type": "stream",
          "name": "stdout",
          "text": [
            "0.66532\n",
            "0.66562\n",
            "0.66532\n"
          ]
        }
      ]
    },
    {
      "cell_type": "markdown",
      "source": [
        "# Range\n",
        "\n",
        "It's worth noting that when the labels are uncertain, it is not possible to achieve an AUC of 1.0. Even if we could perfectly predict $\\rho$, the inherent randomness in $y$ ensures that we can never perfectly order the data.\n",
        "\n",
        "We can compute the maximum possible value by plugging in $\\pi^{(i)}=\\rho^{(i)}$ in the formula."
      ],
      "metadata": {
        "id": "8AxGLATlY_zQ"
      }
    },
    {
      "cell_type": "code",
      "source": [
        "print('{:.5f}'.format(auc_efficient(r, r)))"
      ],
      "metadata": {
        "id": "lnRanJFWYxC3",
        "executionInfo": {
          "status": "ok",
          "timestamp": 1652761458002,
          "user_tz": 420,
          "elapsed": 72,
          "user": {
            "displayName": "Pete Bunch",
            "userId": "11151025324446171769"
          }
        },
        "outputId": "3f972ea6-b28e-41bc-ef66-ad087c75cde3"
      },
      "execution_count": null,
      "outputs": [
        {
          "output_type": "stream",
          "name": "stdout",
          "text": [
            "0.93071\n"
          ]
        }
      ]
    },
    {
      "cell_type": "markdown",
      "source": [
        "This maximum value depends on the distribution of the $\\rho$ values. Let's look at a really simple example, where this distribution is uniform. In this case we can find the limiting value analytically.\n",
        "\n",
        "In the limit as $N$ becomes large, the three components of the AUC will all limit to their expected values, which we can compute separately.\n",
        "\n",
        "For the numerator,\n",
        "\n",
        "$\n",
        "\\begin{align}\n",
        "\\mathbb{E}\\left[ \\sum_i \\sum_j \\text{order}(\\rho^{(i)}, \\rho^{(j)}) \\rho^{(i)} (1-\\rho^{(j)}) \\right]\n",
        "&\\approx N^2 \\mathbb{E}\\left[ \\text{order}(\\hat{\\rho}, \\check{\\rho}) \\hat{\\rho} (1-\\check{\\rho}) \\right] & \\text{ignoring the $i=j$ case} \\\\\n",
        "&= N^2 \\int_0^1 \\int_0^1 \\text{order}(\\hat{\\rho}, \\check{\\rho}) \\hat{\\rho} (1-\\check{\\rho}) p(\\hat{\\rho}) p(\\check{\\rho}) d\\hat{\\rho} d\\check{\\rho} & \\text{definition of expectation} \\\\\n",
        "&= N^2 \\int_0^1 \\hat{\\rho} p(\\hat{\\rho}) \\left[ \\int_0^1 \\text{order}(\\hat{\\rho}, \\check{\\rho})  (1-\\check{\\rho})  p(\\check{\\rho}) d\\check{\\rho} \\right] d\\hat{\\rho} & \\text{pulling terms out of inner integral} \\\\\n",
        "&= N^2 \\int_0^1 \\hat{\\rho} \\left[ \\int_0^\\hat{p} (1-\\check{\\rho}) d\\check{\\rho} \\right] d\\hat{\\rho} & \\text{definition of order, uniform density} \\\\\n",
        "&= N^2 \\int_0^1 \\hat{\\rho} \\left[ \\hat{p} - \\frac{\\hat{p}^2}{2} \\right] d\\hat{\\rho} & \\text{evaluate inner integral} \\\\\n",
        "&= N^2 \\cdot \\frac{5}{24} & \\text{evaluate outer integral}\n",
        "\\end{align}\n",
        "$\n",
        "\n",
        "For the denominator terms,\n",
        "\n",
        "$\n",
        "\\begin{align}\n",
        "\\mathbb{E}\\left[\\sum_i \\rho^{(i)}\\right] = \\mathbb{E}\\left[\\sum_j (1 - \\rho^{(j)})\\right] = \\frac{N}{2}\n",
        "\\end{align}\n",
        "$\n",
        "\n",
        "Plugging these in, we have\n",
        "\n",
        "$\n",
        "\\begin{align}\n",
        "p(\\omega=1 | \\hat{y}=1, \\check{y}=0) \\approx \\frac{N^2 \\cdot \\frac{5}{24}}{\\frac{N}{2} \\cdot \\frac{N}{2}} = \\frac{5}{6} \\approx 0.833\n",
        "\\end{align}\n",
        "$\n",
        "\n",
        "We can check this by simulation."
      ],
      "metadata": {
        "id": "VZtFAlxAfnpw"
      }
    },
    {
      "cell_type": "code",
      "source": [
        "unif_preds = stats.uniform.rvs(size=10000)\n",
        "print('{:.3f}'.format(auc_efficient(unif_preds, unif_preds)))"
      ],
      "metadata": {
        "id": "IYKuV8__eTdw",
        "executionInfo": {
          "status": "ok",
          "timestamp": 1652761458344,
          "user_tz": 420,
          "elapsed": 188,
          "user": {
            "displayName": "Pete Bunch",
            "userId": "11151025324446171769"
          }
        },
        "outputId": "60af8f1e-a175-4902-9d7a-dcf147ecec39"
      },
      "execution_count": null,
      "outputs": [
        {
          "output_type": "stream",
          "name": "stdout",
          "text": [
            "0.835\n"
          ]
        }
      ]
    },
    {
      "cell_type": "markdown",
      "source": [
        "Well that was fun. Let's do another. This time suppose that predictions are evenly distributed between 3 values: $0$, $1$ and $\\frac{1}{2}$.\n",
        "\n",
        "There are 9 possible input combinations for the $\\text{order}(\\rho^{(i)}, \\rho^{(j)})$ term,\n",
        "\n",
        "$\n",
        "\\begin{align}\n",
        "\\text{order}(0,1) = \\text{order}(0,\\frac{1}{2}) = \\text{order}(\\frac{1}{2},1) = 0 \\\\\n",
        "\\text{order}(1,0) = \\text{order}(\\frac{1}{2},0) = \\text{order}(1,\\frac{1}{2}) = 1 \\\\\n",
        "\\text{order}(0,0) = \\text{order}(\\frac{1}{2},\\frac{1}{2}) = \\text{order}(1,1) = \\frac{1}{2}\n",
        "\\end{align}\n",
        "$\n",
        "\n",
        "For the $\\rho^{(i)} (1 - \\rho^{(j)})$ term, 5 of the 9 combinations are 0 because either $\\rho^{(i)}=0$ or $\\rho^{(j)}=1$ (or both). This leaves us with $(1,0)$, $(1,\\frac{1}{2})$, $(\\frac{1}{2}, 0)$, $(\\frac{1}{2}, \\frac{1}{2})$\n",
        "\n",
        "Putting this together,\n",
        "\n",
        "$\n",
        "\\begin{align}\n",
        "\\mathbb{E}\\left[ \\sum_i \\sum_j \\text{order}(\\rho^{(i)}, \\rho^{(j)}) \\rho^{(i)} (1-\\rho^{(j)}) \\right]\n",
        "&\\approx N^2 \\mathbb{E}\\left[ \\text{order}(\\hat{\\rho}, \\check{\\rho}) \\hat{\\rho} (1-\\check{\\rho}) \\right] & \\text{ignoring the $i=j$ case} \\\\\n",
        "&= N^2 \\left[ 1 \\cdot 1 \\cdot \\frac{1}{9} + 1 \\cdot \\frac{1}{2} \\cdot \\frac{1}{9}  + 1 \\cdot \\frac{1}{2} \\cdot \\frac{1}{9} + \\frac{1}{2} \\cdot \\frac{1}{4} \\cdot \\frac{1}{9} \\right] & \\text{evaluate the expectation} \\\\\n",
        "&= N^2 \\frac{17}{72}\n",
        "\\end{align}\n",
        "$\n",
        "\n",
        "Plugging these in, we have\n",
        "\n",
        "$\n",
        "\\begin{align}\n",
        "p(\\omega=1 | \\hat{y}=1, \\check{y}=0) \\approx \\frac{N^2 \\cdot \\frac{17}{72}}{\\frac{N}{2} \\cdot \\frac{N}{2}} = \\frac{17}{18} \\approx 0.944\n",
        "\\end{align}\n",
        "$\n"
      ],
      "metadata": {
        "id": "LjKY9Ky7oSmt"
      }
    },
    {
      "cell_type": "code",
      "source": [
        "ternary_preds = np.concatenate((np.zeros(1000), 0.5*np.ones(1000), np.ones(1000)))\n",
        "print('{:.3f}'.format(auc_efficient(ternary_preds, ternary_preds)))"
      ],
      "metadata": {
        "id": "nv_iVJBIsWwz",
        "executionInfo": {
          "status": "ok",
          "timestamp": 1652761458742,
          "user_tz": 420,
          "elapsed": 125,
          "user": {
            "displayName": "Pete Bunch",
            "userId": "11151025324446171769"
          }
        },
        "outputId": "38f98b84-6924-41d8-cb4d-e2f1a5f7d0c4"
      },
      "execution_count": null,
      "outputs": [
        {
          "output_type": "stream",
          "name": "stdout",
          "text": [
            "0.944\n"
          ]
        }
      ]
    },
    {
      "cell_type": "markdown",
      "source": [
        "# Testing"
      ],
      "metadata": {
        "id": "L4Z_zXNrQaZn"
      }
    },
    {
      "cell_type": "code",
      "source": [
        "# Really simple data for debugging/step-through.\n",
        "x_test = np.array([0.8, 0.3])\n",
        "r_test = np.array([1.0, 0.2])\n",
        "\n",
        "print('{:.5f}'.format(1.0 - auc_naive(x_test, r_test)))\n",
        "print('{:.5f}'.format(1.0 - auc_efficient(x_test, r_test)))"
      ],
      "metadata": {
        "id": "MOcT_Hc9QbPJ",
        "executionInfo": {
          "status": "ok",
          "timestamp": 1652761496819,
          "user_tz": 420,
          "elapsed": 55,
          "user": {
            "displayName": "Pete Bunch",
            "userId": "11151025324446171769"
          }
        },
        "outputId": "679960fa-e9b2-45d0-90e2-f58b31ce9ae6"
      },
      "execution_count": null,
      "outputs": [
        {
          "output_type": "stream",
          "name": "stdout",
          "text": [
            "0.08333\n",
            "0.08333\n"
          ]
        }
      ]
    }
  ]
}